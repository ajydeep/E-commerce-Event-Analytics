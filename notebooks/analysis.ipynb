{
 "cells": [
  {
   "cell_type": "code",
   "execution_count": 5,
   "id": "37b9145f",
   "metadata": {},
   "outputs": [],
   "source": [
    "import pandas as pd\n",
    "import matplotlib.pyplot as plt\n",
    "import seaborn as sns\n",
    "\n",
    "df = pd.read_csv('../data/ecom_events.csv')\n",
    "\n"
   ]
  },
  {
   "cell_type": "code",
   "execution_count": 6,
   "id": "520bafee",
   "metadata": {},
   "outputs": [
    {
     "data": {
      "text/html": [
       "<div>\n",
       "<style scoped>\n",
       "    .dataframe tbody tr th:only-of-type {\n",
       "        vertical-align: middle;\n",
       "    }\n",
       "\n",
       "    .dataframe tbody tr th {\n",
       "        vertical-align: top;\n",
       "    }\n",
       "\n",
       "    .dataframe thead th {\n",
       "        text-align: right;\n",
       "    }\n",
       "</style>\n",
       "<table border=\"1\" class=\"dataframe\">\n",
       "  <thead>\n",
       "    <tr style=\"text-align: right;\">\n",
       "      <th></th>\n",
       "      <th>event_time</th>\n",
       "      <th>event_type</th>\n",
       "      <th>product_id</th>\n",
       "      <th>category_id</th>\n",
       "      <th>category_code</th>\n",
       "      <th>brand</th>\n",
       "      <th>price</th>\n",
       "      <th>user_id</th>\n",
       "      <th>user_session</th>\n",
       "    </tr>\n",
       "  </thead>\n",
       "  <tbody>\n",
       "    <tr>\n",
       "      <th>0</th>\n",
       "      <td>2019-10-01 00:00:00 UTC</td>\n",
       "      <td>view</td>\n",
       "      <td>44600062</td>\n",
       "      <td>2103807459595387724</td>\n",
       "      <td>NaN</td>\n",
       "      <td>shiseido</td>\n",
       "      <td>35.79</td>\n",
       "      <td>541312140</td>\n",
       "      <td>72d76fde-8bb3-4e00-8c23-a032dfed738c</td>\n",
       "    </tr>\n",
       "    <tr>\n",
       "      <th>1</th>\n",
       "      <td>2019-10-01 00:00:00 UTC</td>\n",
       "      <td>view</td>\n",
       "      <td>3900821</td>\n",
       "      <td>2053013552326770905</td>\n",
       "      <td>appliances.environment.water_heater</td>\n",
       "      <td>aqua</td>\n",
       "      <td>33.20</td>\n",
       "      <td>554748717</td>\n",
       "      <td>9333dfbd-b87a-4708-9857-6336556b0fcc</td>\n",
       "    </tr>\n",
       "    <tr>\n",
       "      <th>2</th>\n",
       "      <td>2019-10-01 00:00:01 UTC</td>\n",
       "      <td>view</td>\n",
       "      <td>17200506</td>\n",
       "      <td>2053013559792632471</td>\n",
       "      <td>furniture.living_room.sofa</td>\n",
       "      <td>NaN</td>\n",
       "      <td>543.10</td>\n",
       "      <td>519107250</td>\n",
       "      <td>566511c2-e2e3-422b-b695-cf8e6e792ca8</td>\n",
       "    </tr>\n",
       "    <tr>\n",
       "      <th>3</th>\n",
       "      <td>2019-10-01 00:00:01 UTC</td>\n",
       "      <td>view</td>\n",
       "      <td>1307067</td>\n",
       "      <td>2053013558920217191</td>\n",
       "      <td>computers.notebook</td>\n",
       "      <td>lenovo</td>\n",
       "      <td>251.74</td>\n",
       "      <td>550050854</td>\n",
       "      <td>7c90fc70-0e80-4590-96f3-13c02c18c713</td>\n",
       "    </tr>\n",
       "    <tr>\n",
       "      <th>4</th>\n",
       "      <td>2019-10-01 00:00:04 UTC</td>\n",
       "      <td>view</td>\n",
       "      <td>1004237</td>\n",
       "      <td>2053013555631882655</td>\n",
       "      <td>electronics.smartphone</td>\n",
       "      <td>apple</td>\n",
       "      <td>1081.98</td>\n",
       "      <td>535871217</td>\n",
       "      <td>c6bd7419-2748-4c56-95b4-8cec9ff8b80d</td>\n",
       "    </tr>\n",
       "  </tbody>\n",
       "</table>\n",
       "</div>"
      ],
      "text/plain": [
       "                event_time event_type  product_id          category_id  \\\n",
       "0  2019-10-01 00:00:00 UTC       view    44600062  2103807459595387724   \n",
       "1  2019-10-01 00:00:00 UTC       view     3900821  2053013552326770905   \n",
       "2  2019-10-01 00:00:01 UTC       view    17200506  2053013559792632471   \n",
       "3  2019-10-01 00:00:01 UTC       view     1307067  2053013558920217191   \n",
       "4  2019-10-01 00:00:04 UTC       view     1004237  2053013555631882655   \n",
       "\n",
       "                         category_code     brand    price    user_id  \\\n",
       "0                                  NaN  shiseido    35.79  541312140   \n",
       "1  appliances.environment.water_heater      aqua    33.20  554748717   \n",
       "2           furniture.living_room.sofa       NaN   543.10  519107250   \n",
       "3                   computers.notebook    lenovo   251.74  550050854   \n",
       "4               electronics.smartphone     apple  1081.98  535871217   \n",
       "\n",
       "                           user_session  \n",
       "0  72d76fde-8bb3-4e00-8c23-a032dfed738c  \n",
       "1  9333dfbd-b87a-4708-9857-6336556b0fcc  \n",
       "2  566511c2-e2e3-422b-b695-cf8e6e792ca8  \n",
       "3  7c90fc70-0e80-4590-96f3-13c02c18c713  \n",
       "4  c6bd7419-2748-4c56-95b4-8cec9ff8b80d  "
      ]
     },
     "execution_count": 6,
     "metadata": {},
     "output_type": "execute_result"
    }
   ],
   "source": [
    "df.head()"
   ]
  },
  {
   "cell_type": "code",
   "execution_count": 8,
   "id": "6df2bc61",
   "metadata": {},
   "outputs": [
    {
     "name": "stdout",
     "output_type": "stream",
     "text": [
      "event_type\n",
      "view        97130\n",
      "purchase     1655\n",
      "cart         1215\n",
      "Name: count, dtype: int64\n",
      "event_time       0\n",
      "event_type       0\n",
      "product_id       0\n",
      "category_id      0\n",
      "category_code    0\n",
      "brand            0\n",
      "price            0\n",
      "user_id          0\n",
      "user_session     0\n",
      "dtype: int64\n"
     ]
    }
   ],
   "source": [
    "df['event_time'] = pd.to_datetime(df['event_time'])\n",
    "\n",
    "df.fillna({'brand': 'unknown', 'category_code': 'unknown'}, inplace=True)\n",
    "\n",
    "print(df['event_type'].value_counts())\n",
    "\n",
    "print(df.isnull().sum())"
   ]
  },
  {
   "cell_type": "code",
   "execution_count": null,
   "id": "0f6e4f60",
   "metadata": {},
   "outputs": [
    {
     "name": "stdout",
     "output_type": "stream",
     "text": [
      "Views: 97130\n",
      "Cart Adds: 1215\n",
      "Purchases: 1655\n",
      "Cart Rate: 1.25%\n",
      "Purchase Rate: 1.70%\n"
     ]
    }
   ],
   "source": [
    "from collections import Counter\n",
    "\n",
    "funnel = Counter(df['event_type'])\n",
    "print(f\"Views: {funnel['view']}\")\n",
    "print(f\"Cart Adds: {funnel['cart']}\")\n",
    "print(f\"Purchases: {funnel['purchase']}\")\n",
    "\n",
    "cart_rate = funnel['cart'] / funnel['view'] * 100\n",
    "purchase_rate = funnel['purchase'] / funnel['view'] * 100\n",
    "\n",
    "print(f\"Cart Rate: {cart_rate:.2f}%\")\n",
    "print(f\"Purchase Rate: {purchase_rate:.2f}%\")\n",
    "\n"
   ]
  },
  {
   "cell_type": "code",
   "execution_count": 10,
   "id": "b5d8b196",
   "metadata": {},
   "outputs": [
    {
     "name": "stdout",
     "output_type": "stream",
     "text": [
      "Total Revenue: ₹501,176.21\n"
     ]
    }
   ],
   "source": [
    "total_revenue = df[df['event_type'] == 'purchase']['price'].sum()\n",
    "print(f\"Total Revenue: ₹{total_revenue:,.2f}\")\n"
   ]
  },
  {
   "cell_type": "code",
   "execution_count": 11,
   "id": "054f7888",
   "metadata": {},
   "outputs": [
    {
     "name": "stdout",
     "output_type": "stream",
     "text": [
      "category_code\n",
      "unknown                             32072\n",
      "electronics.smartphone              25113\n",
      "electronics.clocks                   3085\n",
      "computers.notebook                   2649\n",
      "electronics.audio.headphone          2462\n",
      "electronics.video.tv                 1918\n",
      "appliances.kitchen.refrigerators     1912\n",
      "appliances.environment.vacuum        1610\n",
      "apparel.shoes                        1575\n",
      "appliances.kitchen.washer            1492\n",
      "Name: count, dtype: int64\n"
     ]
    }
   ],
   "source": [
    "top_categories = df[df['event_type'] == 'view']['category_code'].value_counts().head(10)\n",
    "print(top_categories)\n"
   ]
  },
  {
   "cell_type": "code",
   "execution_count": 12,
   "id": "1f70753f",
   "metadata": {},
   "outputs": [
    {
     "data": {
      "image/png": "[encoded data removed]",
      "text/plain": [
       "<Figure size 640x480 with 1 Axes>"
      ]
     },
     "metadata": {},
     "output_type": "display_data"
    }
   ],
   "source": [
    "event_counts = df['event_type'].value_counts()\n",
    "sns.barplot(x=event_counts.index, y=event_counts.values)\n",
    "plt.title(\"Event Type Distribution\")\n",
    "plt.xlabel(\"Event Type\")\n",
    "plt.ylabel(\"Count\")\n",
    "plt.show()\n"
   ]
  },
  {
   "cell_type": "code",
   "execution_count": 14,
   "id": "9b2e547c",
   "metadata": {},
   "outputs": [],
   "source": [
    "import sqlite3\n",
    "df = pd.read_csv('../data/ecom_events.csv')\n",
    "\n",
    "conn = sqlite3.connect('../data/ecom.db')"
   ]
  },
  {
   "cell_type": "code",
   "execution_count": 15,
   "id": "e1f31d13",
   "metadata": {},
   "outputs": [
    {
     "name": "stdout",
     "output_type": "stream",
     "text": [
      "Table events loaded with 100000 rows.\n"
     ]
    }
   ],
   "source": [
    "df.to_sql('events', conn, if_exists='replace', index=False)\n",
    "print(\"Table events loaded with\", len(df), \"rows.\")"
   ]
  },
  {
   "cell_type": "code",
   "execution_count": null,
   "id": "a4d259e2",
   "metadata": {},
   "outputs": [],
   "source": [
    "pd.read_sql_query(\"SELECT event_type, COUNT(*) FROM events GROUP BY event_type\", conn)\n"
   ]
  },
  {
   "cell_type": "code",
   "execution_count": 16,
   "id": "a511fc27",
   "metadata": {},
   "outputs": [],
   "source": [
    "def query_file(filename):\n",
    "    with open(filename, 'r') as file:\n",
    "        query = file.read()\n",
    "    return pd.read_sql_query(query, conn)\n"
   ]
  },
  {
   "cell_type": "code",
   "execution_count": 17,
   "id": "ac0d7f3e",
   "metadata": {},
   "outputs": [],
   "source": [
    "df_conversions = query_file('../sql/conversion.sql')"
   ]
  },
  {
   "cell_type": "code",
   "execution_count": 18,
   "id": "2dfbe3d7",
   "metadata": {},
   "outputs": [
    {
     "data": {
      "text/html": [
       "<div>\n",
       "<style scoped>\n",
       "    .dataframe tbody tr th:only-of-type {\n",
       "        vertical-align: middle;\n",
       "    }\n",
       "\n",
       "    .dataframe tbody tr th {\n",
       "        vertical-align: top;\n",
       "    }\n",
       "\n",
       "    .dataframe thead th {\n",
       "        text-align: right;\n",
       "    }\n",
       "</style>\n",
       "<table border=\"1\" class=\"dataframe\">\n",
       "  <thead>\n",
       "    <tr style=\"text-align: right;\">\n",
       "      <th></th>\n",
       "      <th>event_type</th>\n",
       "      <th>count</th>\n",
       "    </tr>\n",
       "  </thead>\n",
       "  <tbody>\n",
       "    <tr>\n",
       "      <th>0</th>\n",
       "      <td>cart</td>\n",
       "      <td>1215</td>\n",
       "    </tr>\n",
       "    <tr>\n",
       "      <th>1</th>\n",
       "      <td>purchase</td>\n",
       "      <td>1655</td>\n",
       "    </tr>\n",
       "    <tr>\n",
       "      <th>2</th>\n",
       "      <td>view</td>\n",
       "      <td>97130</td>\n",
       "    </tr>\n",
       "  </tbody>\n",
       "</table>\n",
       "</div>"
      ],
      "text/plain": [
       "  event_type  count\n",
       "0       cart   1215\n",
       "1   purchase   1655\n",
       "2       view  97130"
      ]
     },
     "execution_count": 18,
     "metadata": {},
     "output_type": "execute_result"
    }
   ],
   "source": [
    "df_conversions.head()"
   ]
  },
  {
   "cell_type": "code",
   "execution_count": 31,
   "id": "858b0c1d",
   "metadata": {},
   "outputs": [
    {
     "data": {
      "text/html": [
       "<div>\n",
       "<style scoped>\n",
       "    .dataframe tbody tr th:only-of-type {\n",
       "        vertical-align: middle;\n",
       "    }\n",
       "\n",
       "    .dataframe tbody tr th {\n",
       "        vertical-align: top;\n",
       "    }\n",
       "\n",
       "    .dataframe thead th {\n",
       "        text-align: right;\n",
       "    }\n",
       "</style>\n",
       "<table border=\"1\" class=\"dataframe\">\n",
       "  <thead>\n",
       "    <tr style=\"text-align: right;\">\n",
       "      <th></th>\n",
       "      <th>category_code</th>\n",
       "      <th>total_revenue</th>\n",
       "    </tr>\n",
       "  </thead>\n",
       "  <tbody>\n",
       "    <tr>\n",
       "      <th>0</th>\n",
       "      <td>electronics.smartphone</td>\n",
       "      <td>346732.42</td>\n",
       "    </tr>\n",
       "    <tr>\n",
       "      <th>1</th>\n",
       "      <td>unknown</td>\n",
       "      <td>54849.12</td>\n",
       "    </tr>\n",
       "    <tr>\n",
       "      <th>2</th>\n",
       "      <td>computers.notebook</td>\n",
       "      <td>16137.95</td>\n",
       "    </tr>\n",
       "    <tr>\n",
       "      <th>3</th>\n",
       "      <td>electronics.video.tv</td>\n",
       "      <td>14039.82</td>\n",
       "    </tr>\n",
       "    <tr>\n",
       "      <th>4</th>\n",
       "      <td>appliances.kitchen.washer</td>\n",
       "      <td>10239.12</td>\n",
       "    </tr>\n",
       "  </tbody>\n",
       "</table>\n",
       "</div>"
      ],
      "text/plain": [
       "               category_code  total_revenue\n",
       "0     electronics.smartphone      346732.42\n",
       "1                    unknown       54849.12\n",
       "2         computers.notebook       16137.95\n",
       "3       electronics.video.tv       14039.82\n",
       "4  appliances.kitchen.washer       10239.12"
      ]
     },
     "execution_count": 31,
     "metadata": {},
     "output_type": "execute_result"
    }
   ],
   "source": [
    "df_revenue = query_file('../sql/total_rev.sql')\n",
    "df_revenue.head()"
   ]
  },
  {
   "cell_type": "code",
   "execution_count": 33,
   "id": "7fcbeea2",
   "metadata": {},
   "outputs": [
    {
     "data": {
      "text/html": [
       "<div>\n",
       "<style scoped>\n",
       "    .dataframe tbody tr th:only-of-type {\n",
       "        vertical-align: middle;\n",
       "    }\n",
       "\n",
       "    .dataframe tbody tr th {\n",
       "        vertical-align: top;\n",
       "    }\n",
       "\n",
       "    .dataframe thead th {\n",
       "        text-align: right;\n",
       "    }\n",
       "</style>\n",
       "<table border=\"1\" class=\"dataframe\">\n",
       "  <thead>\n",
       "    <tr style=\"text-align: right;\">\n",
       "      <th></th>\n",
       "      <th>cart_conversion_rate</th>\n",
       "      <th>purchase_from_cart_rate</th>\n",
       "    </tr>\n",
       "  </thead>\n",
       "  <tbody>\n",
       "    <tr>\n",
       "      <th>0</th>\n",
       "      <td>1.25</td>\n",
       "      <td>136.21</td>\n",
       "    </tr>\n",
       "  </tbody>\n",
       "</table>\n",
       "</div>"
      ],
      "text/plain": [
       "   cart_conversion_rate  purchase_from_cart_rate\n",
       "0                  1.25                   136.21"
      ]
     },
     "execution_count": 33,
     "metadata": {},
     "output_type": "execute_result"
    }
   ],
   "source": [
    "df_cart_aban = query_file('../sql/cart_abandonment_rate.sql')\n",
    "df_cart_aban.head()"
   ]
  },
  {
   "cell_type": "code",
   "execution_count": 34,
   "id": "09153047",
   "metadata": {},
   "outputs": [
    {
     "data": {
      "text/html": [
       "<div>\n",
       "<style scoped>\n",
       "    .dataframe tbody tr th:only-of-type {\n",
       "        vertical-align: middle;\n",
       "    }\n",
       "\n",
       "    .dataframe tbody tr th {\n",
       "        vertical-align: top;\n",
       "    }\n",
       "\n",
       "    .dataframe thead th {\n",
       "        text-align: right;\n",
       "    }\n",
       "</style>\n",
       "<table border=\"1\" class=\"dataframe\">\n",
       "  <thead>\n",
       "    <tr style=\"text-align: right;\">\n",
       "      <th></th>\n",
       "      <th>date</th>\n",
       "      <th>purchases</th>\n",
       "    </tr>\n",
       "  </thead>\n",
       "  <tbody>\n",
       "    <tr>\n",
       "      <th>0</th>\n",
       "      <td>None</td>\n",
       "      <td>1655</td>\n",
       "    </tr>\n",
       "  </tbody>\n",
       "</table>\n",
       "</div>"
      ],
      "text/plain": [
       "   date  purchases\n",
       "0  None       1655"
      ]
     },
     "execution_count": 34,
     "metadata": {},
     "output_type": "execute_result"
    }
   ],
   "source": [
    "df_daily_pur = query_file('../sql/daily_purchase.sql')\n",
    "df_daily_pur.head()"
   ]
  },
  {
   "cell_type": "code",
   "execution_count": 36,
   "id": "fcdc6fb6",
   "metadata": {},
   "outputs": [
    {
     "data": {
      "text/html": [
       "<div>\n",
       "<style scoped>\n",
       "    .dataframe tbody tr th:only-of-type {\n",
       "        vertical-align: middle;\n",
       "    }\n",
       "\n",
       "    .dataframe tbody tr th {\n",
       "        vertical-align: top;\n",
       "    }\n",
       "\n",
       "    .dataframe thead th {\n",
       "        text-align: right;\n",
       "    }\n",
       "</style>\n",
       "<table border=\"1\" class=\"dataframe\">\n",
       "  <thead>\n",
       "    <tr style=\"text-align: right;\">\n",
       "      <th></th>\n",
       "      <th>brand</th>\n",
       "      <th>views</th>\n",
       "    </tr>\n",
       "  </thead>\n",
       "  <tbody>\n",
       "    <tr>\n",
       "      <th>0</th>\n",
       "      <td>unknown</td>\n",
       "      <td>14232</td>\n",
       "    </tr>\n",
       "    <tr>\n",
       "      <th>1</th>\n",
       "      <td>samsung</td>\n",
       "      <td>10793</td>\n",
       "    </tr>\n",
       "    <tr>\n",
       "      <th>2</th>\n",
       "      <td>apple</td>\n",
       "      <td>9019</td>\n",
       "    </tr>\n",
       "    <tr>\n",
       "      <th>3</th>\n",
       "      <td>xiaomi</td>\n",
       "      <td>6666</td>\n",
       "    </tr>\n",
       "    <tr>\n",
       "      <th>4</th>\n",
       "      <td>huawei</td>\n",
       "      <td>2576</td>\n",
       "    </tr>\n",
       "  </tbody>\n",
       "</table>\n",
       "</div>"
      ],
      "text/plain": [
       "     brand  views\n",
       "0  unknown  14232\n",
       "1  samsung  10793\n",
       "2    apple   9019\n",
       "3   xiaomi   6666\n",
       "4   huawei   2576"
      ]
     },
     "execution_count": 36,
     "metadata": {},
     "output_type": "execute_result"
    }
   ],
   "source": [
    "df_most_viewd = query_file('../sql/most_viewed_brands.sql')\n",
    "df_most_viewd.head()"
   ]
  },
  {
   "cell_type": "code",
   "execution_count": 41,
   "id": "67dfada5",
   "metadata": {},
   "outputs": [
    {
     "data": {
      "text/html": [
       "<div>\n",
       "<style scoped>\n",
       "    .dataframe tbody tr th:only-of-type {\n",
       "        vertical-align: middle;\n",
       "    }\n",
       "\n",
       "    .dataframe tbody tr th {\n",
       "        vertical-align: top;\n",
       "    }\n",
       "\n",
       "    .dataframe thead th {\n",
       "        text-align: right;\n",
       "    }\n",
       "</style>\n",
       "<table border=\"1\" class=\"dataframe\">\n",
       "  <thead>\n",
       "    <tr style=\"text-align: right;\">\n",
       "      <th></th>\n",
       "      <th>category_code</th>\n",
       "      <th>unique_sessions</th>\n",
       "    </tr>\n",
       "  </thead>\n",
       "  <tbody>\n",
       "    <tr>\n",
       "      <th>0</th>\n",
       "      <td>unknown</td>\n",
       "      <td>8978</td>\n",
       "    </tr>\n",
       "    <tr>\n",
       "      <th>1</th>\n",
       "      <td>electronics.smartphone</td>\n",
       "      <td>7853</td>\n",
       "    </tr>\n",
       "    <tr>\n",
       "      <th>2</th>\n",
       "      <td>electronics.clocks</td>\n",
       "      <td>997</td>\n",
       "    </tr>\n",
       "    <tr>\n",
       "      <th>3</th>\n",
       "      <td>electronics.audio.headphone</td>\n",
       "      <td>921</td>\n",
       "    </tr>\n",
       "    <tr>\n",
       "      <th>4</th>\n",
       "      <td>computers.notebook</td>\n",
       "      <td>601</td>\n",
       "    </tr>\n",
       "  </tbody>\n",
       "</table>\n",
       "</div>"
      ],
      "text/plain": [
       "                 category_code  unique_sessions\n",
       "0                      unknown             8978\n",
       "1       electronics.smartphone             7853\n",
       "2           electronics.clocks              997\n",
       "3  electronics.audio.headphone              921\n",
       "4           computers.notebook              601"
      ]
     },
     "execution_count": 41,
     "metadata": {},
     "output_type": "execute_result"
    }
   ],
   "source": [
    "df_unique_session = query_file('../sql/unique_session.sql')\n",
    "df_unique_session.head()\n"
   ]
  },
  {
   "cell_type": "code",
   "execution_count": 42,
   "id": "93a576d5",
   "metadata": {},
   "outputs": [],
   "source": [
    "from pathlib import Path"
   ]
  },
  {
   "cell_type": "code",
   "execution_count": 43,
   "id": "ef83ee00",
   "metadata": {},
   "outputs": [],
   "source": [
    "export_dir = Path('../output')\n",
    "export_dir.mkdir(exist_ok = True)"
   ]
  },
  {
   "cell_type": "code",
   "execution_count": 44,
   "id": "56dab7c3",
   "metadata": {},
   "outputs": [],
   "source": [
    "df_event_counts = pd.read_sql_query(\"\"\"\n",
    "    SELECT event_type, COUNT(*) AS count\n",
    "    FROM events\n",
    "    GROUP BY event_type             \n",
    "\"\"\", conn)\n",
    "\n",
    "df_event_counts.to_csv(export_dir/ 'event_counts.csv', index = False)\n"
   ]
  },
  {
   "cell_type": "code",
   "execution_count": 45,
   "id": "abb84e74",
   "metadata": {},
   "outputs": [],
   "source": [
    "df_revenue = pd.read_sql_query(\"\"\"\n",
    "    SELECT \n",
    "        COALESCE(category_code, 'unknown') AS category_code,\n",
    "        ROUND(SUM(price), 2) AS total_revenue\n",
    "    FROM events\n",
    "    WHERE event_type = 'purchase'\n",
    "    GROUP BY COALESCE(category_code, 'unknown')\n",
    "    ORDER BY total_revenue DESC\n",
    "    LIMIT 10\n",
    "\"\"\", conn)\n",
    "df_revenue.to_csv(export_dir / 'top_categories_revenue.csv', index=False)\n"
   ]
  },
  {
   "cell_type": "code",
   "execution_count": 46,
   "id": "53030864",
   "metadata": {},
   "outputs": [],
   "source": [
    "df_top_brands = pd.read_sql_query(\"\"\"\n",
    "    SELECT \n",
    "        COALESCE(brand, 'unknown') AS brand,\n",
    "        COUNT(*) AS views\n",
    "    FROM events\n",
    "    WHERE event_type = 'view'\n",
    "    GROUP BY COALESCE(brand, 'unknown')\n",
    "    ORDER BY views DESC\n",
    "    LIMIT 10\n",
    "\"\"\", conn)\n",
    "df_top_brands.to_csv(export_dir / 'top_brands_views.csv', index=False)\n"
   ]
  },
  {
   "cell_type": "code",
   "execution_count": 47,
   "id": "00b495f3",
   "metadata": {},
   "outputs": [],
   "source": [
    "df_funnel = pd.read_sql_query(\"\"\"\n",
    "    SELECT event_type, COUNT(*) AS count\n",
    "    FROM events\n",
    "    WHERE event_type IN ('view', 'cart', 'purchase')\n",
    "    GROUP BY event_type\n",
    "\"\"\", conn)\n",
    "df_funnel.to_csv(export_dir / 'conversion_funnel.csv', index=False)\n"
   ]
  },
  {
   "cell_type": "code",
   "execution_count": 48,
   "id": "d116e631",
   "metadata": {},
   "outputs": [],
   "source": [
    "df_cart_abandon = pd.read_sql_query(\"\"\"\n",
    "    WITH cart_counts AS (\n",
    "        SELECT COALESCE(category_code, 'unknown') AS category_code, COUNT(*) AS cart_count\n",
    "        FROM events\n",
    "        WHERE event_type = 'cart'\n",
    "        GROUP BY COALESCE(category_code, 'unknown')\n",
    "    ),\n",
    "    purchase_counts AS (\n",
    "        SELECT COALESCE(category_code, 'unknown') AS category_code, COUNT(*) AS purchase_count\n",
    "        FROM events\n",
    "        WHERE event_type = 'purchase'\n",
    "        GROUP BY COALESCE(category_code, 'unknown')\n",
    "    )\n",
    "    SELECT \n",
    "        c.category_code,\n",
    "        c.cart_count,\n",
    "        COALESCE(p.purchase_count, 0) AS purchase_count\n",
    "    FROM cart_counts c\n",
    "    LEFT JOIN purchase_counts p\n",
    "    ON c.category_code = p.category_code\n",
    "    ORDER BY c.cart_count DESC\n",
    "    LIMIT 10\n",
    "\"\"\", conn)\n",
    "df_cart_abandon.to_csv(export_dir / 'cart_abandonment.csv', index=False)\n"
   ]
  },
  {
   "cell_type": "code",
   "execution_count": 49,
   "id": "03f3edf5",
   "metadata": {},
   "outputs": [],
   "source": [
    "df_daily = pd.read_sql_query(\"\"\"\n",
    "    SELECT DATE(event_time) AS date, COUNT(*) AS daily_purchases\n",
    "    FROM events\n",
    "    WHERE event_type = 'purchase'\n",
    "    GROUP BY DATE(event_time)\n",
    "    ORDER BY date\n",
    "\"\"\", conn)\n",
    "df_daily.to_csv(export_dir / 'daily_purchase_trend.csv', index=False)\n"
   ]
  },
  {
   "cell_type": "code",
   "execution_count": 50,
   "id": "5f1029a2",
   "metadata": {},
   "outputs": [],
   "source": [
    "df_unique_sess = pd.read_sql_query(\"\"\"\n",
    "    SELECT \n",
    "        COALESCE(category_code, 'unknown') AS category_code,\n",
    "        COUNT(DISTINCT user_session) AS unique_sessions\n",
    "    FROM events\n",
    "    WHERE event_type = 'view'\n",
    "    GROUP BY COALESCE(category_code, 'unknown')\n",
    "    ORDER BY unique_sessions DESC\n",
    "    LIMIT 10\n",
    "\"\"\", conn)\n",
    "df_unique_sess.to_csv(export_dir / 'unique_sessions.csv', index=False)"
   ]
  }
 ],
 "metadata": {
  "kernelspec": {
   "display_name": "3.10.13",
   "language": "python",
   "name": "python3"
  },
  "language_info": {
   "codemirror_mode": {
    "name": "ipython",
    "version": 3
   },
   "file_extension": ".py",
   "mimetype": "text/x-python",
   "name": "python",
   "nbconvert_exporter": "python",
   "pygments_lexer": "ipython3",
   "version": "3.10.13"
  }
 },
 "nbformat": 4,
 "nbformat_minor": 5
}
